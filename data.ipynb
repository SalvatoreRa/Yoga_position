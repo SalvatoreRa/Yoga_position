{
 "cells": [
  {
   "cell_type": "code",
   "execution_count": 16,
   "id": "0f986393-ecc2-4f35-a0af-fd32afe48452",
   "metadata": {},
   "outputs": [],
   "source": [
    "import os\n",
    "from os.path import isfile, join\n",
    "from os import listdir\n",
    "import random\n",
    "from PIL import Image"
   ]
  },
  {
   "cell_type": "code",
   "execution_count": 22,
   "id": "5920d314-b2bc-4b0d-bc45-8802a8257fc2",
   "metadata": {},
   "outputs": [
    {
     "data": {
      "text/plain": [
       "['Urdhva Dhanurasana',\n",
       " 'Adho Mukha Vrksasana',\n",
       " 'Balasana',\n",
       " 'Alanasana',\n",
       " 'Ardha Pincha Mayurasana']"
      ]
     },
     "execution_count": 22,
     "metadata": {},
     "output_type": "execute_result"
    }
   ],
   "source": [
    "#use your path\n",
    "mypath='./archive (2)/'\n",
    "#onlyfiles = [f for f in listdir(mypath) if isfile(join(mypath, f))]\n",
    "files =[f for f in listdir(mypath)]\n",
    "files[:5]"
   ]
  },
  {
   "cell_type": "code",
   "execution_count": 21,
   "id": "0198b19d-81e8-43a7-a40d-9bcd29052890",
   "metadata": {},
   "outputs": [],
   "source": [
    "for i in [f for f in listdir(mypath)]:\n",
    "    path = './data/train/' +i\n",
    "    os.mkdir(path)\n",
    "    path = './data/val/' +i\n",
    "    os.mkdir(path) \n",
    "    folder = './archive (2)/' + i +'/'\n",
    "    files=[f for f in listdir(folder)]\n",
    "    randomlist = random.sample(range(0, len(files)), int(len(files)*0.2))\n",
    "    n=0\n",
    "    for j in range(len(files)):\n",
    "        if j in randomlist:\n",
    "            x=  folder +files[j]\n",
    "            im = Image.open(x)\n",
    "            dirx= './data/val/'+i +'/'\n",
    "            fname = dirx + i +'_'+ str(n) +'.png'\n",
    "            im.save(fname)\n",
    "        else:\n",
    "            x=  folder +files[j]\n",
    "            im = Image.open(x)\n",
    "            dirx= './data/train/'+i +'/'\n",
    "            fname = dirx + i +'_'+ str(n) +'.png'\n",
    "            im.save(fname)\n",
    "        n+=1\n",
    "    "
   ]
  },
  {
   "cell_type": "code",
   "execution_count": 23,
   "id": "58f80f1b-556a-4aca-afb8-d60a5a4da295",
   "metadata": {},
   "outputs": [],
   "source": [
    "with open('model_classes.txt', 'w') as f:\n",
    "    for line in files:\n",
    "        f.write(f\"{line}\\n\")"
   ]
  },
  {
   "cell_type": "code",
   "execution_count": 12,
   "id": "0fbff754-911d-4fe0-9d81-1342efcefc4a",
   "metadata": {},
   "outputs": [
    {
     "data": {
      "text/plain": [
       "66"
      ]
     },
     "execution_count": 12,
     "metadata": {},
     "output_type": "execute_result"
    }
   ],
   "source": []
  },
  {
   "cell_type": "code",
   "execution_count": null,
   "id": "005909e8-6cf8-45e4-88e5-8a0459e823f7",
   "metadata": {},
   "outputs": [],
   "source": []
  }
 ],
 "metadata": {
  "kernelspec": {
   "display_name": "Python 3",
   "language": "python",
   "name": "python3"
  },
  "language_info": {
   "codemirror_mode": {
    "name": "ipython",
    "version": 3
   },
   "file_extension": ".py",
   "mimetype": "text/x-python",
   "name": "python",
   "nbconvert_exporter": "python",
   "pygments_lexer": "ipython3",
   "version": "3.7.11"
  }
 },
 "nbformat": 4,
 "nbformat_minor": 5
}
